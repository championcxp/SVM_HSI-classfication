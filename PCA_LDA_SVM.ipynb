{
 "cells": [
  {
   "cell_type": "markdown",
   "metadata": {},
   "source": [
    "# 利用SVM进行高光谱图像分类大综合"
   ]
  },
  {
   "cell_type": "markdown",
   "metadata": {},
   "source": [
    "# 1.加载遥感图像的.mat数据进行呈图显示"
   ]
  },
  {
   "cell_type": "code",
   "execution_count": 16,
   "metadata": {},
   "outputs": [],
   "source": [
    "# 加载数据\n",
    "import matplotlib.pyplot as plt  \n",
    "import numpy as np\n",
    "from scipy.io import loadmat\n",
    "import spectral\n",
    "from functools import reduce \n",
    "\n",
    "# 获取mat格式的数据，loadmat输出的是dict，需要进行定位\n",
    "input_image = loadmat('E:/Hyperspectral/hyperspectral_code/data/Salinas.mat')['salinas']\n",
    "output_image = loadmat('E:/Hyperspectral/hyperspectral_code/data/Salinas_gt.mat')['salinas_gt']\n",
    "\n",
    "# input_image.shape      # (512, 217, 224)\n",
    "# output_image.shape     # (512, 217)\n",
    "# np.unique(output_image)  # array([ 0,1,2,3,4,5,6,7,8,9,10,11,12,13,14,15,16],dtype=uint8)\n"
   ]
  },
  {
   "cell_type": "code",
   "execution_count": 17,
   "metadata": {},
   "outputs": [
    {
     "name": "stdout",
     "output_type": "stream",
     "text": [
      "{6: 3959, 7: 3579, 4: 1394, 5: 2678, 15: 7268, 8: 11271, 3: 1976, 2: 3726, 1: 2009, 11: 1068, 12: 1927, 13: 916, 14: 1070, 10: 3278, 9: 6203, 16: 1807}\n",
      "54129\n"
     ]
    }
   ],
   "source": [
    "# 统计每类样本所含个数\n",
    "dict_k = {}\n",
    "for i in range(output_image.shape[0]):\n",
    "    for j in range(output_image.shape[1]):\n",
    "        if output_image[i][j] in [m for m in range(1,17)]:\n",
    "        #if output_image[i][j] in [1, 2, 3, 4, 5, 6, 7, 8, 9,10,11,12,13]:\n",
    "            if output_image[i][j] not in dict_k:\n",
    "                dict_k[output_image[i][j]]=0\n",
    "            dict_k[output_image[i][j]] +=1\n",
    "            \n",
    "print(dict_k)\n",
    "print(reduce(lambda x,y:x+y,dict_k.values()))\n",
    "\n",
    "# {6: 3959, 7: 3579, 4: 1394, 5: 2678, 15: 7268, 8: 11271, 3: 1976, 2: 3726, 1: 2009, 11: 1068, 12: 1927, 13: 916, 14: 1070, 10: 3278, 9: 6203, 16: 1807}\n",
    "# 54129\n"
   ]
  },
  {
   "cell_type": "code",
   "execution_count": 18,
   "metadata": {},
   "outputs": [
    {
     "data": {
      "image/png": "[encoded data removed]",
      "text/plain": [
       "<Figure size 648x648 with 1 Axes>"
      ]
     },
     "metadata": {
      "needs_background": "light"
     },
     "output_type": "display_data"
    }
   ],
   "source": [
    "# 展示地物\n",
    "ground_truth = spectral.imshow(classes = output_image.astype(int),figsize =(9,9))"
   ]
  },
  {
   "cell_type": "code",
   "execution_count": 19,
   "metadata": {},
   "outputs": [
    {
     "data": {
      "image/png": "[encoded data removed]",
      "text/plain": [
       "<Figure size 648x648 with 1 Axes>"
      ]
     },
     "metadata": {
      "needs_background": "light"
     },
     "output_type": "display_data"
    }
   ],
   "source": [
    "# 不同颜色绘制\n",
    "my_color =np.array([[255,255,255],\n",
    "     [184,40,99],\n",
    "     [74,77,145],\n",
    "     [35,102,193],\n",
    "     [238,110,105],\n",
    "     [117,249,76],\n",
    "     [114,251,253],\n",
    "     [126,196,59],\n",
    "     [234,65,247],\n",
    "     [141,79,77],\n",
    "     [183,40,99],\n",
    "     [0,39,245],\n",
    "     [90,196,111],\n",
    "     [50,140,100],\n",
    "     [70,140,200],\n",
    "     [100,150,170]])\n",
    "\n",
    "ground_truth = spectral.imshow(classes = output_image.astype(int),figsize =(9,9),colors=my_color)\n"
   ]
  },
  {
   "cell_type": "markdown",
   "metadata": {},
   "source": [
    "# 重构用到的类，转化为CSV文件"
   ]
  },
  {
   "cell_type": "code",
   "execution_count": 20,
   "metadata": {},
   "outputs": [],
   "source": [
    "# 除掉 0 这个非分类的类，把所有需要分类的元素提取出来\n",
    "need_label = np.zeros([output_image.shape[0],output_image.shape[1]])   #(512,217)的全零矩阵\n",
    "for i in range(output_image.shape[0]):\n",
    "    for j in range(output_image.shape[1]):\n",
    "        if output_image[i][j] != 0:\n",
    "        #if output_image[i][j] in [1,2,3,4,5,6,7,8,9]:\n",
    "            need_label[i][j] = output_image[i][j]\n",
    "\n",
    "\n",
    "new_datawithlabel_list = []\n",
    "for i in range(output_image.shape[0]):\n",
    "    for j in range(output_image.shape[1]):\n",
    "        if need_label[i][j] != 0:\n",
    "            c2l = list(input_image[i][j])\n",
    "            c2l.append(need_label[i][j])\n",
    "            new_datawithlabel_list.append(c2l)\n",
    "\n",
    "new_datawithlabel_array = np.array(new_datawithlabel_list)  \n",
    "# print(new_datawithlabel_array.shape)  # new_datawithlabel_array.shape (54129,225),包含了数据维度和标签维度，数据225维度，也就是224个波段，最后255列是标签维"
   ]
  },
  {
   "cell_type": "code",
   "execution_count": 25,
   "metadata": {},
   "outputs": [
    {
     "name": "stdout",
     "output_type": "stream",
     "text": [
      "Done\n"
     ]
    }
   ],
   "source": [
    "from sklearn import preprocessing  \n",
    "data_D = preprocessing.StandardScaler().fit_transform(new_datawithlabel_array[:,:-1])  #(arry[:, :-1])按逆序展示，去掉了最后一列\n",
    "# print(data_D.shape)  #(54129, 224)\n",
    "#data_D = preprocessing.MinMaxScaler().fit_transform(new_datawithlabel_array[:,:-1])\n",
    "\n",
    "data_L = new_datawithlabel_array[:,-1]\n",
    "# print(data_L.shape)  #(54129, 224)\n",
    "\n",
    "# 将结果存档后续处理\n",
    "import pandas as pd\n",
    "new = np.column_stack((data_D,data_L))\n",
    "new_ = pd.DataFrame(new)\n",
    "new_.to_csv('E:/Hyperspectral/hyperspectral_code/salinas.csv',header=False,index=False)\n",
    "# 生成csv文件后，就可以直接对该文件进行操作\n",
    "print('Done')"
   ]
  },
  {
   "cell_type": "markdown",
   "metadata": {},
   "source": [
    "# 训练模型并存储模型（PCA-LDA-GS-SVM）"
   ]
  },
  {
   "cell_type": "code",
   "execution_count": 26,
   "metadata": {},
   "outputs": [],
   "source": [
    "import joblib\n",
    "from sklearn.model_selection import KFold\n",
    "from sklearn.model_selection import train_test_split\n",
    "import numpy as np\n",
    "from sklearn.svm import SVC\n",
    "from sklearn import metrics\n",
    "from sklearn import preprocessing\n",
    "from sklearn.decomposition import RandomizedPCA\n",
    "import pandas as pd\n",
    "from sklearn.grid_search import GridSearchCV\n",
    "from sklearn.discriminant_analysis import LinearDiscriminantAnalysis\n",
    "from time import time"
   ]
  },
  {
   "cell_type": "code",
   "execution_count": 35,
   "metadata": {},
   "outputs": [
    {
     "name": "stderr",
     "output_type": "stream",
     "text": [
      "D:\\Anaconda\\lib\\site-packages\\ipykernel_launcher.py:4: FutureWarning: Method .as_matrix will be removed in a future version. Use .values instead.\n",
      "  after removing the cwd from sys.path.\n"
     ]
    },
    {
     "name": "stdout",
     "output_type": "stream",
     "text": [
      "OK\n",
      "[15.  8.  4. ...  8. 12.  8.]\n",
      "11.0\n",
      "(27065,)\n",
      "float64\n",
      "95.49233327175318\n",
      "done in 13.277s\n"
     ]
    },
    {
     "data": {
      "text/plain": [
       "['salinas_MODEL.m']"
      ]
     },
     "execution_count": 35,
     "metadata": {},
     "output_type": "execute_result"
    }
   ],
   "source": [
    "# 导入数据集切割训练与测试数据\n",
    "\n",
    "data = pd.read_csv('E:/Hyperspectral/hyperspectral_code/salinas.csv',header=None)\n",
    "data = data.as_matrix()\n",
    "data_D = data[:,:-1]  #(54129, 224)\n",
    "data_L = data[:,-1]   #(54129,)\n",
    "data_train, data_test, label_train, label_test = train_test_split(data_D,data_L,test_size=0.5)\n",
    "\n",
    "\n",
    "# 模型训练与拟合linear  rbf  poly\n",
    "t0 = time()\n",
    "pca = RandomizedPCA(n_components = 70, whiten=True).fit(data_D)\n",
    "X_train_pca = pca.transform(data_train) \n",
    "X_test_pca = pca.transform(data_test)\n",
    "\n",
    "\n",
    "lda = LinearDiscriminantAnalysis(n_components = 14).fit(X_train_pca,label_train)\n",
    "X_train_ida = lda.transform(X_train_pca)\n",
    "X_test_ida = lda.transform(X_test_pca)\n",
    "\n",
    "print('OK')\n",
    "\n",
    "# param_grid = {'C': [1e3, 5e3, 1e4, 5e4, 1e5],\n",
    "#               'gamma': [0.0001, 0.0005, 0.001, 0.005, 0.01, 0.1], }\n",
    "# param_grid = {'C': [10, 20, 100, 500, 1e3],\n",
    "#               'gamma': [0.001, 0.005, 0.01, 0.05, 0.1, 0.125], }\n",
    "# clf = GridSearchCV(SVC(kernel='linear', class_weight='balanced'), param_grid)\n",
    "\n",
    "clf = SVC(kernel = 'rbf',gamma=0.1,C=20)   # paviau:18-10 rbf 0.1  100  linear 0.125  20  poly 0.1 100  indian:80-40rbf 0.01 100  linear 0.1  20  poly 0.1 100 \n",
    "clf.fit(X_train_ida,label_train)            #salinas:70-14 rbf 0.1  20    linear 0.125  10  poly 0.1 100\n",
    "# clf.fit(data_train,label_train)\n",
    "pred = clf.predict(X_test_ida)\n",
    "print(pred)\n",
    "print(pred[100])\n",
    "print(pred.shape)\n",
    "print(pred.dtype)\n",
    "accuracy = metrics.accuracy_score(label_test, pred)*100\n",
    "print(accuracy)    # 95.60687234435618\n",
    "# print(clf.best_estimator_)\n",
    "print(\"done in %0.3fs\" % (time() - t0))  # done in 13.843s\n",
    "# 存储结果学习模型，方便之后的调用\n",
    "joblib.dump(clf, \"salinas_MODEL.m\")"
   ]
  },
  {
   "cell_type": "code",
   "execution_count": 41,
   "metadata": {},
   "outputs": [],
   "source": [
    "array = pred"
   ]
  },
  {
   "cell_type": "code",
   "execution_count": 38,
   "metadata": {},
   "outputs": [
    {
     "ename": "IndexError",
     "evalue": "index 27065 is out of bounds for axis 0 with size 27065",
     "output_type": "error",
     "traceback": [
      "\u001b[1;31m---------------------------------------------------------------------------\u001b[0m",
      "\u001b[1;31mIndexError\u001b[0m                                Traceback (most recent call last)",
      "\u001b[1;32m<ipython-input-38-2610ba612d6b>\u001b[0m in \u001b[0;36m<module>\u001b[1;34m()\u001b[0m\n\u001b[0;32m      5\u001b[0m     \u001b[1;32mfor\u001b[0m \u001b[0mj\u001b[0m \u001b[1;32min\u001b[0m \u001b[0mrange\u001b[0m\u001b[1;33m(\u001b[0m\u001b[0moutput_image\u001b[0m\u001b[1;33m.\u001b[0m\u001b[0mshape\u001b[0m\u001b[1;33m[\u001b[0m\u001b[1;36m1\u001b[0m\u001b[1;33m]\u001b[0m\u001b[1;33m)\u001b[0m\u001b[1;33m:\u001b[0m\u001b[1;33m\u001b[0m\u001b[0m\n\u001b[0;32m      6\u001b[0m         \u001b[1;32mif\u001b[0m \u001b[0moutput_image\u001b[0m\u001b[1;33m[\u001b[0m\u001b[0mi\u001b[0m\u001b[1;33m]\u001b[0m\u001b[1;33m[\u001b[0m\u001b[0mj\u001b[0m\u001b[1;33m]\u001b[0m \u001b[1;33m!=\u001b[0m \u001b[1;36m0\u001b[0m \u001b[1;33m:\u001b[0m\u001b[1;33m\u001b[0m\u001b[0m\n\u001b[1;32m----> 7\u001b[1;33m             \u001b[0mnew_show\u001b[0m\u001b[1;33m[\u001b[0m\u001b[0mi\u001b[0m\u001b[1;33m]\u001b[0m\u001b[1;33m[\u001b[0m\u001b[0mj\u001b[0m\u001b[1;33m]\u001b[0m \u001b[1;33m=\u001b[0m \u001b[0mpred\u001b[0m\u001b[1;33m[\u001b[0m\u001b[0mk\u001b[0m\u001b[1;33m]\u001b[0m\u001b[1;33m\u001b[0m\u001b[0m\n\u001b[0m\u001b[0;32m      8\u001b[0m             \u001b[0mk\u001b[0m \u001b[1;33m+=\u001b[0m\u001b[1;36m1\u001b[0m\u001b[1;33m\u001b[0m\u001b[0m\n\u001b[0;32m      9\u001b[0m \u001b[1;33m\u001b[0m\u001b[0m\n",
      "\u001b[1;31mIndexError\u001b[0m: index 27065 is out of bounds for axis 0 with size 27065"
     ]
    }
   ],
   "source": [
    "# 将预测的结果匹配到图像中\n",
    "new_show = np.zeros((output_image.shape[0],output_image.shape[1]))\n",
    "k = 0\n",
    "for i in range(output_image.shape[0]):\n",
    "    for j in range(output_image.shape[1]):\n",
    "        if output_image[i][j] != 0 :\n",
    "            new_show[i][j] = pred[k]\n",
    "            k +=1 \n",
    "            \n",
    "# print new_show.shape\n",
    "\n",
    "# 展示地物\n",
    "ground_truth = spectral.imshow(classes = output_image.astype(int),figsize =(9,9))\n",
    "ground_predict = spectral.imshow(classes = new_show.astype(int), figsize =(9,9))"
   ]
  },
  {
   "cell_type": "markdown",
   "metadata": {},
   "source": [
    "# 模型预测在图中标记类"
   ]
  },
  {
   "cell_type": "code",
   "execution_count": 29,
   "metadata": {},
   "outputs": [
    {
     "name": "stdout",
     "output_type": "stream",
     "text": [
      "ok\n"
     ]
    }
   ],
   "source": [
    "# mat文件的导入\n",
    "import matplotlib.pyplot as plt  \n",
    "import numpy as np\n",
    "from scipy.io import loadmat\n",
    "import spectral\n",
    "\n",
    "\n",
    "input_image = loadmat('E:/Hyperspectral/hyperspectral_code/data/Salinas.mat')['salinas']\n",
    "output_image = loadmat('E:/Hyperspectral/hyperspectral_code/data/Salinas_gt.mat')['salinas_gt']\n",
    "\n",
    "\n",
    "testdata = np.genfromtxt('E:/Hyperspectral/hyperspectral_code/salinas.csv',delimiter=',')\n",
    "data_test = testdata[:,:-1]\n",
    "label_test = testdata[:,-1]\n",
    "\n",
    "#在利用训练的model.m模型进行预测时，因为模型经过了PCA与LDA,此时测试时也要经过相同的处理步骤\n",
    "pca = RandomizedPCA(n_components = 70, whiten=True).fit(data_test)  \n",
    "data_test_pca = pca.transform(data_test)\n",
    "\n",
    "lda = LinearDiscriminantAnalysis(n_components = 14).fit(data_test_pca,label_test)\n",
    "data_test_pca_lda = lda.transform(data_test_pca)\n",
    "# print(data_test_pca_lda.shape)\n",
    "\n",
    "print('ok')\n"
   ]
  },
  {
   "cell_type": "code",
   "execution_count": 31,
   "metadata": {},
   "outputs": [
    {
     "name": "stdout",
     "output_type": "stream",
     "text": [
      "79.45833102403518\n"
     ]
    }
   ],
   "source": [
    "# salinas_MODEL.m\n",
    "clf = joblib.load(\"salinas_MODEL.m\")\n",
    "\n",
    "predict_label = clf.predict(data_test_pca_lda)\n",
    "\n",
    "accuracy = metrics.accuracy_score(label_test, predict_label)*100\n",
    "\n",
    "print(accuracy) # 79.45833102403518\n",
    "\n",
    "\n",
    "# 将预测的结果匹配到图像中\n",
    "new_show = np.zeros((output_image.shape[0],output_image.shape[1]))\n",
    "k = 0\n",
    "for i in range(output_image.shape[0]):\n",
    "    for j in range(output_image.shape[1]):\n",
    "        if output_image[i][j] != 0 :\n",
    "            new_show[i][j] = predict_label[k]\n",
    "            k +=1 \n",
    "            \n",
    "# print new_show.shape\n",
    "\n",
    "\n",
    "\n"
   ]
  },
  {
   "cell_type": "code",
   "execution_count": 32,
   "metadata": {},
   "outputs": [
    {
     "data": {
      "image/png": "[encoded data removed]",
      "text/plain": [
       "<Figure size 648x648 with 1 Axes>"
      ]
     },
     "metadata": {
      "needs_background": "light"
     },
     "output_type": "display_data"
    },
    {
     "data": {
      "image/png": "[encoded data removed]",
      "text/plain": [
       "<Figure size 648x648 with 1 Axes>"
      ]
     },
     "metadata": {
      "needs_background": "light"
     },
     "output_type": "display_data"
    }
   ],
   "source": [
    "# 将预测的结果匹配到图像中\n",
    "new_show = np.zeros((output_image.shape[0],output_image.shape[1]))\n",
    "k = 0\n",
    "for i in range(output_image.shape[0]):\n",
    "    for j in range(output_image.shape[1]):\n",
    "        if output_image[i][j] != 0 :\n",
    "            new_show[i][j] = predict_label[k]\n",
    "            k +=1 \n",
    "            \n",
    "# print new_show.shape\n",
    "\n",
    "# 展示地物\n",
    "ground_truth = spectral.imshow(classes = output_image.astype(int),figsize =(9,9))\n",
    "ground_predict = spectral.imshow(classes = new_show.astype(int), figsize =(9,9))"
   ]
  },
  {
   "cell_type": "code",
   "execution_count": null,
   "metadata": {},
   "outputs": [],
   "source": [
    "# 1.主成分分析（PCA）的降维\n",
    "# 2.线性判别分析（LDA）的降维\n",
    "# 3.网格搜索法（GS）寻找最佳参数\n",
    "# 4.支持向量机SVM的分类"
   ]
  },
  {
   "cell_type": "code",
   "execution_count": 3,
   "metadata": {},
   "outputs": [
    {
     "name": "stdout",
     "output_type": "stream",
     "text": [
      "(512, 217, 224)\n",
      "(111104, 224)\n",
      "pca.components_ (30, 224)\n",
      "pca_var_ratio (30,)\n"
     ]
    },
    {
     "data": {
      "image/png": "[encoded data removed]",
      "text/plain": [
       "<Figure size 432x288 with 1 Axes>"
      ]
     },
     "metadata": {
      "needs_background": "light"
     },
     "output_type": "display_data"
    }
   ],
   "source": [
    "#经过PCA后，减少计算的复杂程度的基础上，尽可能多的保留原始信息\n",
    "from sklearn.decomposition import PCA\n",
    "import numpy as np\n",
    "from sklearn.preprocessing import StandardScaler\n",
    "from scipy.io import loadmat\n",
    "import numpy as np\n",
    "import matplotlib.pyplot as plt\n",
    "\n",
    "\n",
    "X = loadmat('E:/Hyperspectral/hyperspectral_code/data/Salinas.mat')['salinas']\n",
    "print (X.shape)\n",
    "newX = np.reshape(X,(-1,X.shape[2]))\n",
    "print (newX.shape)\n",
    "y = loadmat('E:/Hyperspectral/hyperspectral_code/data/Salinas_gt.mat')['salinas_gt']  \n",
    "#pca=PCA( )\n",
    "pca=PCA(n_components=0.9999)  # n_components可以写数字或小数，此处表示保留99.99%的原始信息\n",
    "pca.fit(newX,y)\n",
    "ratio=pca.explained_variance_ratio_\n",
    "print(\"pca.components_\",pca.components_.shape)\n",
    "print(\"pca_var_ratio\",pca.explained_variance_ratio_.shape)\n",
    "#绘制图形\n",
    "\n",
    "plt.plot([i for i in range(X.shape[2])],\n",
    "         [np.sum(ratio[:i+1]) for i in range(X.shape[2])])\n",
    "plt.xticks(np.arange(X.shape[2],step=20))\n",
    "plt.yticks(np.arange(0,1.01,0.10))\n",
    "plt.grid()\n",
    "plt.show()\n",
    "# 横坐标：表示保留的维度个数\n",
    "# 纵坐标：降维后的所有成分的方差和\n",
    "# (512, 217, 224)\n",
    "# (111104, 224)\n",
    "# pca.components_ (30, 224)\n",
    "# pca_var_ratio (30,)\n",
    "\n",
    "\n",
    "lda = LinearDiscriminantAnalysis(n_components = 14).fit(X_train_pca,label_train)\n",
    "X_train_ida = lda.transform(X_train_pca)\n",
    "X_test_ida = lda.transform(X_test_pca)"
   ]
  },
  {
   "cell_type": "code",
   "execution_count": 3,
   "metadata": {},
   "outputs": [],
   "source": [
    "#这里还差经LDA后，原始信息含量的波段数的关系（曲线图），进而在减少计算的复杂程度的基础上，尽可能多的保留原始信息"
   ]
  },
  {
   "cell_type": "markdown",
   "metadata": {},
   "source": [
    "# 网格搜索法（GS）寻找最佳参数"
   ]
  },
  {
   "cell_type": "code",
   "execution_count": 30,
   "metadata": {},
   "outputs": [],
   "source": [
    "# 此段独立，目的利用网格搜索法找到最佳参数gamma和惩罚因子C，将最佳参数可填入上段SVC函数中\n",
    "# 但在此应指出的是原始数据集划分成训练集和测试集以后，其中测试集除了用作调整参数，也用来测量模型的好坏；\n",
    "# 这样做导致最终的评分结果比实际效果好。（因为测试集在调参过程中，送到了模型里,，而我们的目的是将训练模型应用到unseen data上)\n",
    "\n",
    "# 解决办法：\n",
    "\n",
    "# 对训练集再进行一次划分，分为训练集和验证集，这样划分的结果就是：原始数据划分为3份，分别为：训练集，验证集和测试集；\n",
    "# 其中训练集用来模型训练，验证集用来调整参数，而测试集用来衡量模型表现好坏。\n",
    "# 更多在  https://www.cnblogs.com/wj-1314/p/10422159.html"
   ]
  },
  {
   "cell_type": "code",
   "execution_count": 31,
   "metadata": {},
   "outputs": [],
   "source": [
    "# # 网格搜索法1\n",
    "# from sklearn.datasets import load_iris\n",
    "# from sklearn.svm import SVC\n",
    "# from sklearn.model_selection import train_test_split\n",
    "# import pandas as pd\n",
    "# data = pd.read_csv(r'E:\\BaiduNetdiskDownload\\hyperspectral_datasets\\salinas.csv',header=None)\n",
    "# data = data.as_matrix()\n",
    "# data_D = data[:,:-1]\n",
    "# data_L = data[:,-1]\n",
    "# X_train, X_test, y_train, y_test = train_test_split(data_D,data_L,test_size=0.5)\n",
    " \n",
    "# # grid search start\n",
    "# best_score = 0\n",
    "# for gamma in [0.001,0.01,1,10,100]:\n",
    "#     for c in [0.001,0.01,1,10,100]:\n",
    "#         # 对于每种参数可能的组合，进行一次训练\n",
    "#         svm = SVC(gamma=gamma,C=c)\n",
    "#         svm.fit(X_train,y_train)\n",
    "#         score = svm.score(X_test,y_test)\n",
    "#         # 找到表现最好的参数\n",
    "#         if score > best_score:\n",
    "#             best_score = score\n",
    "#             best_parameters = {'gamma':gamma,\"C\":c}\n",
    " \n",
    "# print('Best socre:{:.2f}'.format(best_score))\n",
    "# print('Best parameters:{}'.format(best_parameters))"
   ]
  },
  {
   "cell_type": "code",
   "execution_count": 32,
   "metadata": {},
   "outputs": [],
   "source": [
    "# # 网格搜索法2：引入验证集后，为减少偶然性，引入交叉验证\n",
    "# from sklearn.datasets import load_iris\n",
    "# from sklearn.svm import SVC\n",
    "# from sklearn.model_selection import train_test_split,cross_val_score\n",
    "# import pandas as pd\n",
    "\n",
    "# data = pd.read_csv(r'E:\\BaiduNetdiskDownload\\hyperspectral_datasets\\salinas.csv',header=None)\n",
    "# data = data.values  #as_matrix\n",
    "# data_D = data[:,:-1]\n",
    "# data_L = data[:,-1]\n",
    "# X_trainval,X_test,y_trainval,y_test = train_test_split(data_D,data_L,test_size=0.2,random_state=0)\n",
    "# X_train ,X_val,y_train,y_val = train_test_split(X_trainval,y_trainval,random_state=1)\n",
    "\n",
    "\n",
    "# # grid search start\n",
    "# best_score = 0\n",
    "# for gamma in [0.001]:  #,0.01,1,10,100\n",
    "#     for c in [1]:     #0.001,0.01,,10,100\n",
    "#         # 对于每种参数可能的组合，进行一次训练\n",
    "#         svm = SVC(gamma=gamma,C=c)\n",
    "#         # 5 折交叉验证\n",
    "#         scores = cross_val_score(svm,X_trainval,y_trainval,cv=5)\n",
    "#         score = scores.mean()\n",
    "#         # 找到表现最好的参数  \n",
    "#         if score > best_score:\n",
    "#             best_score = score\n",
    "#             best_parameters = {'gamma':gamma,\"C\":c}\n",
    " \n",
    "# # 使用最佳参数，构建新的模型\n",
    "# svm = SVC(**best_parameters)\n",
    " \n",
    "# # 使用训练集和验证集进行训练 more data always resultd in good performance\n",
    "# svm.fit(X_trainval,y_trainval)\n",
    " \n",
    "# # evalyation 模型评估\n",
    "# test_score = svm.score(X_test,y_test)\n",
    " \n",
    "# print('Best socre:{:.2f}'.format(best_score))\n",
    "# print('Best parameters:{}'.format(best_parameters))\n",
    "# print('Best score on test set:{:.2f}'.format(test_score))"
   ]
  },
  {
   "cell_type": "code",
   "execution_count": null,
   "metadata": {},
   "outputs": [],
   "source": []
  }
 ],
 "metadata": {
  "kernelspec": {
   "display_name": "Python 3",
   "language": "python",
   "name": "python3"
  },
  "language_info": {
   "codemirror_mode": {
    "name": "ipython",
    "version": 3
   },
   "file_extension": ".py",
   "mimetype": "text/x-python",
   "name": "python",
   "nbconvert_exporter": "python",
   "pygments_lexer": "ipython3",
   "version": "3.7.0"
  }
 },
 "nbformat": 4,
 "nbformat_minor": 2
}
